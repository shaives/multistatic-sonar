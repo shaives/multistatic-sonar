{
 "cells": [
  {
   "cell_type": "code",
   "execution_count": null,
   "metadata": {},
   "outputs": [],
   "source": [
    "from math import *"
   ]
  },
  {
   "cell_type": "code",
   "execution_count": null,
   "metadata": {},
   "outputs": [],
   "source": [
    "d_source = 1000             # is the distance from the submarine to the listening point\n",
    "\n",
    "phi_in = 90        # angle in in-plane\n",
    "sigma_in = 90      # angle out of-plane\n",
    "\n",
    "phi_out = 90        # angle in in-plane\n",
    "sigma_out = 90      # angle out of-plane\n",
    "\n",
    "p_sc = 1e-6      # scattered pressure at the listening point\n",
    "p_in = 1e-6      # incident pressure at the point\n",
    "\n",
    "r0 = 1          # reference distance in yards\n",
    "r = 1           # distance in yards to the listening point"
   ]
  },
  {
   "cell_type": "code",
   "execution_count": null,
   "metadata": {},
   "outputs": [],
   "source": [
    "TS = 20*log10( (r*abs(psc)) / (r0*abs(pin)) )"
   ]
  }
 ],
 "metadata": {
  "language_info": {
   "name": "python"
  }
 },
 "nbformat": 4,
 "nbformat_minor": 2
}
